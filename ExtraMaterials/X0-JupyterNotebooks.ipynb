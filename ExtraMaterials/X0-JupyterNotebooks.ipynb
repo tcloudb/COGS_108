{
 "cells": [
  {
   "cell_type": "markdown",
   "metadata": {},
   "source": [
    "# Jupyter Notebooks\n",
    "<br>\n",
    "<div class=\"alert alert-success\">\n",
    "Jupyter notebooks are a way to combine code, code outputs, and plain text. \n",
    "</div>"
   ]
  },
  {
   "cell_type": "markdown",
   "metadata": {},
   "source": [
    "Cells, can be markdown (text), like this one."
   ]
  },
  {
   "cell_type": "code",
   "execution_count": 14,
   "metadata": {
    "collapsed": false
   },
   "outputs": [
    {
     "name": "stdout",
     "output_type": "stream",
     "text": [
      "3\n"
     ]
    }
   ],
   "source": [
    "# Cell can also be code. Code outputs will be printed out inline, after the cell.\n",
    "a = 1\n",
    "b = 2\n",
    "print(a + b)"
   ]
  },
  {
   "cell_type": "markdown",
   "metadata": {},
   "source": [
    "## Accessing Documentation\n",
    "<br>\n",
    "<div class=\"alert alert-success\">\n",
    "Jupyter also gives you quick and easy ways to access documentation, as well as source code. <br><br>\n",
    "\n",
    "Add a single '?' after a function or class name to pull up a window with the documentation. <br>\n",
    "\n",
    "Add a double '??' after a function or class name to pull up the actual code. \n",
    "</div>"
   ]
  },
  {
   "cell_type": "code",
   "execution_count": 2,
   "metadata": {
    "collapsed": false
   },
   "outputs": [],
   "source": [
    "# Import numpy for examples\n",
    "import numpy as np"
   ]
  },
  {
   "cell_type": "code",
   "execution_count": 3,
   "metadata": {
    "collapsed": true
   },
   "outputs": [],
   "source": [
    "# Check the docs for a numpy array\n",
    "np.array?"
   ]
  },
  {
   "cell_type": "code",
   "execution_count": 4,
   "metadata": {
    "collapsed": true
   },
   "outputs": [],
   "source": [
    "# Check the full source code for numpy append function\n",
    "np.append??"
   ]
  },
  {
   "cell_type": "markdown",
   "metadata": {},
   "source": [
    "## Autocomplete\n",
    "<br>\n",
    "<div class=\"alert alert-success\">\n",
    "Jupyter also has [tab complete](https://en.wikipedia.org/wiki/Command-line_completion) capacities, which can autocomplete what you are typing, and/or be used to explore what code is available.  \n",
    "</div>"
   ]
  },
  {
   "cell_type": "code",
   "execution_count": null,
   "metadata": {
    "collapsed": false
   },
   "outputs": [],
   "source": [
    "# Move your cursor just after the period, press tab, and a drop menu will appear showing all possible completions\n",
    "np."
   ]
  },
  {
   "cell_type": "code",
   "execution_count": null,
   "metadata": {
    "collapsed": true
   },
   "outputs": [],
   "source": [
    "# Autocomplete does not have to be at a period. Move to the end of 'ra' and hit tab to see completion options. \n",
    "ra"
   ]
  },
  {
   "cell_type": "code",
   "execution_count": null,
   "metadata": {
    "collapsed": true
   },
   "outputs": [],
   "source": [
    "# If there is only one option, tab-complete will auto-complete what you are typing\n",
    "ran"
   ]
  },
  {
   "cell_type": "markdown",
   "metadata": {},
   "source": [
    "## Magic Commands\n",
    "<br>\n",
    "<div class=\"alert alert-success\">\n",
    "'Magic Commands' are a special (command-line like) syntax in IPython/Jupyter to run special functionality. They can run on lines and/or entire cells. \n",
    "</div>\n",
    "<div class=\"alert alert-info\">\n",
    "Details on Magic Commands: http://ipython.readthedocs.io/en/stable/interactive/magics.html\n",
    "</div>"
   ]
  },
  {
   "cell_type": "code",
   "execution_count": 6,
   "metadata": {
    "collapsed": false
   },
   "outputs": [
    {
     "data": {
      "application/json": {
       "cell": {
        "!": "OSMagics",
        "HTML": "Other",
        "SVG": "Other",
        "bash": "Other",
        "capture": "ExecutionMagics",
        "debug": "ExecutionMagics",
        "file": "Other",
        "html": "DisplayMagics",
        "javascript": "DisplayMagics",
        "js": "DisplayMagics",
        "latex": "DisplayMagics",
        "perl": "Other",
        "prun": "ExecutionMagics",
        "pypy": "Other",
        "python": "Other",
        "python2": "Other",
        "python3": "Other",
        "ruby": "Other",
        "script": "ScriptMagics",
        "sh": "Other",
        "svg": "DisplayMagics",
        "sx": "OSMagics",
        "system": "OSMagics",
        "time": "ExecutionMagics",
        "timeit": "ExecutionMagics",
        "writefile": "OSMagics"
       },
       "line": {
        "alias": "OSMagics",
        "alias_magic": "BasicMagics",
        "autocall": "AutoMagics",
        "automagic": "AutoMagics",
        "autosave": "KernelMagics",
        "bookmark": "OSMagics",
        "cat": "Other",
        "cd": "OSMagics",
        "clear": "KernelMagics",
        "colors": "BasicMagics",
        "config": "ConfigMagics",
        "connect_info": "KernelMagics",
        "cp": "Other",
        "debug": "ExecutionMagics",
        "dhist": "OSMagics",
        "dirs": "OSMagics",
        "doctest_mode": "BasicMagics",
        "ed": "Other",
        "edit": "KernelMagics",
        "env": "OSMagics",
        "gui": "BasicMagics",
        "hist": "Other",
        "history": "HistoryMagics",
        "killbgscripts": "ScriptMagics",
        "ldir": "Other",
        "less": "KernelMagics",
        "lf": "Other",
        "lk": "Other",
        "ll": "Other",
        "load": "CodeMagics",
        "load_ext": "ExtensionMagics",
        "loadpy": "CodeMagics",
        "logoff": "LoggingMagics",
        "logon": "LoggingMagics",
        "logstart": "LoggingMagics",
        "logstate": "LoggingMagics",
        "logstop": "LoggingMagics",
        "ls": "Other",
        "lsmagic": "BasicMagics",
        "lx": "Other",
        "macro": "ExecutionMagics",
        "magic": "BasicMagics",
        "man": "KernelMagics",
        "matplotlib": "PylabMagics",
        "mkdir": "Other",
        "more": "KernelMagics",
        "mv": "Other",
        "notebook": "BasicMagics",
        "page": "BasicMagics",
        "pastebin": "CodeMagics",
        "pdb": "ExecutionMagics",
        "pdef": "NamespaceMagics",
        "pdoc": "NamespaceMagics",
        "pfile": "NamespaceMagics",
        "pinfo": "NamespaceMagics",
        "pinfo2": "NamespaceMagics",
        "popd": "OSMagics",
        "pprint": "BasicMagics",
        "precision": "BasicMagics",
        "profile": "BasicMagics",
        "prun": "ExecutionMagics",
        "psearch": "NamespaceMagics",
        "psource": "NamespaceMagics",
        "pushd": "OSMagics",
        "pwd": "OSMagics",
        "pycat": "OSMagics",
        "pylab": "PylabMagics",
        "qtconsole": "KernelMagics",
        "quickref": "BasicMagics",
        "recall": "HistoryMagics",
        "rehashx": "OSMagics",
        "reload_ext": "ExtensionMagics",
        "rep": "Other",
        "rerun": "HistoryMagics",
        "reset": "NamespaceMagics",
        "reset_selective": "NamespaceMagics",
        "rm": "Other",
        "rmdir": "Other",
        "run": "ExecutionMagics",
        "save": "CodeMagics",
        "sc": "OSMagics",
        "set_env": "OSMagics",
        "store": "StoreMagics",
        "sx": "OSMagics",
        "system": "OSMagics",
        "tb": "ExecutionMagics",
        "time": "ExecutionMagics",
        "timeit": "ExecutionMagics",
        "unalias": "OSMagics",
        "unload_ext": "ExtensionMagics",
        "who": "NamespaceMagics",
        "who_ls": "NamespaceMagics",
        "whos": "NamespaceMagics",
        "xdel": "NamespaceMagics",
        "xmode": "BasicMagics"
       }
      },
      "text/plain": [
       "Available line magics:\n",
       "%alias  %alias_magic  %autocall  %automagic  %autosave  %bookmark  %cat  %cd  %clear  %colors  %config  %connect_info  %cp  %debug  %dhist  %dirs  %doctest_mode  %ed  %edit  %env  %gui  %hist  %history  %killbgscripts  %ldir  %less  %lf  %lk  %ll  %load  %load_ext  %loadpy  %logoff  %logon  %logstart  %logstate  %logstop  %ls  %lsmagic  %lx  %macro  %magic  %man  %matplotlib  %mkdir  %more  %mv  %notebook  %page  %pastebin  %pdb  %pdef  %pdoc  %pfile  %pinfo  %pinfo2  %popd  %pprint  %precision  %profile  %prun  %psearch  %psource  %pushd  %pwd  %pycat  %pylab  %qtconsole  %quickref  %recall  %rehashx  %reload_ext  %rep  %rerun  %reset  %reset_selective  %rm  %rmdir  %run  %save  %sc  %set_env  %store  %sx  %system  %tb  %time  %timeit  %unalias  %unload_ext  %who  %who_ls  %whos  %xdel  %xmode\n",
       "\n",
       "Available cell magics:\n",
       "%%!  %%HTML  %%SVG  %%bash  %%capture  %%debug  %%file  %%html  %%javascript  %%js  %%latex  %%perl  %%prun  %%pypy  %%python  %%python2  %%python3  %%ruby  %%script  %%sh  %%svg  %%sx  %%system  %%time  %%timeit  %%writefile\n",
       "\n",
       "Automagic is ON, % prefix IS NOT needed for line magics."
      ]
     },
     "execution_count": 6,
     "metadata": {},
     "output_type": "execute_result"
    }
   ],
   "source": [
    "# You can check a list of available magic commands\n",
    "%lsmagic"
   ]
  },
  {
   "cell_type": "markdown",
   "metadata": {},
   "source": [
    "### Line Magics\n",
    "\n",
    "\n",
    "Line magics use a single '%', and apply to a single line. "
   ]
  },
  {
   "cell_type": "code",
   "execution_count": 7,
   "metadata": {
    "collapsed": false
   },
   "outputs": [
    {
     "name": "stdout",
     "output_type": "stream",
     "text": [
      "100 loops, best of 3: 2.72 ms per loop\n"
     ]
    }
   ],
   "source": [
    "# For example, we can time how long it takes to create a large list\n",
    "%timeit list(range(100000))"
   ]
  },
  {
   "cell_type": "markdown",
   "metadata": {},
   "source": [
    "### Cell Magics\n",
    "\n",
    "Cell magics use a double '%%', and apply to the whole cell. "
   ]
  },
  {
   "cell_type": "code",
   "execution_count": 8,
   "metadata": {
    "collapsed": false
   },
   "outputs": [
    {
     "name": "stdout",
     "output_type": "stream",
     "text": [
      "100 loops, best of 3: 10.7 ms per loop\n"
     ]
    }
   ],
   "source": [
    "%%timeit\n",
    "# For example, we could time a whole cell\n",
    "a = list(range(100000))\n",
    "b = [n + 1 for n in a]"
   ]
  },
  {
   "cell_type": "markdown",
   "metadata": {},
   "source": [
    "### Running terminal commands\n",
    "\n",
    "Another nice thing about notebooks is being able to run terminals commands"
   ]
  },
  {
   "cell_type": "code",
   "execution_count": 9,
   "metadata": {
    "collapsed": false
   },
   "outputs": [
    {
     "name": "stdout",
     "output_type": "stream",
     "text": [
      "/Users/thomasdonoghue/Documents/UCSD/1-Classes/2016-2017/3-Spring/TA-COGS108/Code/108Org/ExtraMaterials\r\n"
     ]
    }
   ],
   "source": [
    "# You can run a terminal command by adding '!' to the start of the line\n",
    "!pwd\n",
    "\n",
    "# Note that in this case, '!pwd' is equivalent to line magic '%pwd'. \n",
    "# The '!' syntax is more general though, allowing you to run anything you want through command-line "
   ]
  },
  {
   "cell_type": "code",
   "execution_count": 10,
   "metadata": {
    "collapsed": false
   },
   "outputs": [
    {
     "name": "stdout",
     "output_type": "stream",
     "text": [
      "/Users/thomasdonoghue/Documents/UCSD/1-Classes/2016-2017/3-Spring/TA-COGS108/Code/108Org/ExtraMaterials\n"
     ]
    }
   ],
   "source": [
    "%%bash\n",
    "# Equivalently, (for bash) use the %%bash cell magic to run a cell as bash (command-line)\n",
    "pwd"
   ]
  },
  {
   "cell_type": "code",
   "execution_count": 11,
   "metadata": {
    "collapsed": false
   },
   "outputs": [
    {
     "name": "stdout",
     "output_type": "stream",
     "text": [
      "# packages in environment at /Users/thomasdonoghue/anaconda/envs/py36:\n",
      "#\n",
      "_license                  1.1                      py36_1  \n",
      "alabaster                 0.7.9                    py36_0  \n",
      "anaconda                  4.3.1               np111py36_0  \n",
      "anaconda-client           1.6.0                    py36_0  \n",
      "anaconda-navigator        1.5.0                    py36_0  \n",
      "anaconda-project          0.4.1                    py36_0  \n",
      "appnope                   0.1.0                    py36_0  \n",
      "appscript                 1.0.1                    py36_0  \n",
      "astroid                   1.4.9                    py36_0  \n",
      "astropy                   1.3                 np111py36_0  \n",
      "babel                     2.3.4                    py36_0  \n",
      "backports                 1.0                      py36_0  \n",
      "beautifulsoup4            4.5.3                    py36_0  \n",
      "bitarray                  0.8.1                    py36_0  \n",
      "blaze                     0.10.1                   py36_0  \n",
      "bokeh                     0.12.4                   py36_0  \n",
      "boto                      2.45.0                   py36_0  \n",
      "bottleneck                1.2.0               np111py36_0  \n",
      "cffi                      1.9.1                    py36_0  \n",
      "chardet                   2.3.0                    py36_0  \n",
      "chest                     0.2.3                    py36_0  \n",
      "click                     6.7                      py36_0  \n",
      "cloudpickle               0.2.2                    py36_0  \n",
      "clyent                    1.2.2                    py36_0  \n",
      "colorama                  0.3.7                    py36_0  \n",
      "configobj                 5.0.6                    py36_0  \n",
      "contextlib2               0.5.4                    py36_0  \n",
      "cryptography              1.7.1                    py36_0  \n",
      "curl                      7.52.1                        0  \n",
      "cycler                    0.10.0                   py36_0  \n",
      "cython                    0.25.2                   py36_0  \n",
      "cytoolz                   0.8.2                    py36_0  \n",
      "dask                      0.13.0                   py36_0  \n",
      "datashape                 0.5.4                    py36_0  \n",
      "decorator                 4.0.11                   py36_0  \n",
      "dill                      0.2.5                    py36_0  \n",
      "docutils                  0.13.1                   py36_0  \n",
      "entrypoints               0.2.2                    py36_0  \n",
      "et_xmlfile                1.0.1                    py36_0  \n",
      "fastcache                 1.0.2                    py36_1  \n",
      "flask                     0.12                     py36_0  \n",
      "flask-cors                3.0.2                    py36_0  \n",
      "freetype                  2.5.5                         2  \n",
      "get_terminal_size         1.0.0                    py36_0  \n",
      "gevent                    1.2.1                    py36_0  \n",
      "greenlet                  0.4.11                   py36_0  \n",
      "h5py                      2.6.0               np111py36_2  \n",
      "hdf5                      1.8.17                        1  \n",
      "heapdict                  1.0.0                    py36_1  \n",
      "icu                       54.1                          0  \n",
      "idna                      2.2                      py36_0  \n",
      "imagesize                 0.7.1                    py36_0  \n",
      "ipykernel                 4.5.2                    py36_0  \n",
      "ipython                   5.1.0                    py36_1  \n",
      "ipython_genutils          0.1.0                    py36_0  \n",
      "ipywidgets                5.2.2                    py36_1  \n",
      "isort                     4.2.5                    py36_0  \n",
      "itsdangerous              0.24                     py36_0  \n",
      "jbig                      2.1                           0  \n",
      "jdcal                     1.3                      py36_0  \n",
      "jedi                      0.9.0                    py36_1  \n",
      "jinja2                    2.9.4                    py36_0  \n",
      "jpeg                      9b                            0  \n",
      "jsonschema                2.5.1                    py36_0  \n",
      "jupyter                   1.0.0                    py36_3  \n",
      "jupyter_client            4.4.0                    py36_0  \n",
      "jupyter_console           5.0.0                    py36_0  \n",
      "jupyter_core              4.2.1                    py36_0  \n",
      "lazy-object-proxy         1.2.2                    py36_0  \n",
      "libiconv                  1.14                          0  \n",
      "libpng                    1.6.27                        0  \n",
      "libtiff                   4.0.6                         3  \n",
      "libxml2                   2.9.4                         0  \n",
      "libxslt                   1.1.29                        0  \n",
      "llvmlite                  0.15.0                   py36_0  \n",
      "locket                    0.2.0                    py36_1  \n",
      "lxml                      3.7.2                    py36_0  \n",
      "markupsafe                0.23                     py36_2  \n",
      "matplotlib                2.0.0               np111py36_0  \n",
      "mistune                   0.7.3                    py36_1  \n",
      "mkl                       2017.0.1                      0  \n",
      "mkl-service               1.1.2                    py36_3  \n",
      "mpmath                    0.19                     py36_1  \n",
      "multipledispatch          0.4.9                    py36_0  \n",
      "nbconvert                 4.2.0                    py36_0  \n",
      "nbformat                  4.2.0                    py36_0  \n",
      "networkx                  1.11                     py36_0  \n",
      "nltk                      3.2.2                    py36_0  \n",
      "nose                      1.3.7                    py36_1  \n",
      "notebook                  4.3.1                    py36_0  \n",
      "numba                     0.30.1              np111py36_0  \n",
      "numexpr                   2.6.1               np111py36_2  \n",
      "numpy                     1.11.3                   py36_0  \n",
      "numpydoc                  0.6.0                    py36_0  \n",
      "odo                       0.5.0                    py36_1  \n",
      "openpyxl                  2.4.1                    py36_0  \n",
      "openssl                   1.0.2k                        1  \n",
      "pandas                    0.19.2              np111py36_1  \n",
      "partd                     0.3.7                    py36_0  \n",
      "path.py                   10.0                     py36_0  \n",
      "pathlib2                  2.2.0                    py36_0  \n",
      "patsy                     0.4.1                    py36_0  \n",
      "pep8                      1.7.0                    py36_0  \n",
      "pexpect                   4.2.1                    py36_0  \n",
      "pickleshare               0.7.4                    py36_0  \n",
      "pillow                    4.0.0                    py36_0  \n",
      "pip                       9.0.1                    py36_1  \n",
      "ply                       3.9                      py36_0  \n",
      "prompt_toolkit            1.0.9                    py36_0  \n",
      "psutil                    5.0.1                    py36_0  \n",
      "ptyprocess                0.5.1                    py36_0  \n",
      "py                        1.4.32                   py36_0  \n",
      "pyasn1                    0.1.9                    py36_0  \n",
      "pycosat                   0.6.1                    py36_1  \n",
      "pycparser                 2.17                     py36_0  \n",
      "pycrypto                  2.6.1                    py36_4  \n",
      "pycurl                    7.43.0                   py36_2  \n",
      "pyflakes                  1.5.0                    py36_0  \n",
      "pygments                  2.1.3                    py36_0  \n",
      "pylint                    1.6.4                    py36_1  \n",
      "pyopenssl                 16.2.0                   py36_0  \n",
      "pyparsing                 2.1.4                    py36_0  \n",
      "pyqt                      5.6.0                    py36_1  \n",
      "pytables                  3.3.0               np111py36_0  \n",
      "pytest                    3.0.5                    py36_0  \n",
      "python                    3.6.0                         0  \n",
      "python-dateutil           2.6.0                    py36_0  \n",
      "python.app                1.2                      py36_4  \n",
      "pytz                      2016.10                  py36_0  \n",
      "pyyaml                    3.12                     py36_0  \n",
      "pyzmq                     16.0.2                   py36_0  \n",
      "qt                        5.6.2                         0  \n",
      "qtawesome                 0.4.3                    py36_0  \n",
      "qtconsole                 4.2.1                    py36_1  \n",
      "qtpy                      1.2.1                    py36_0  \n",
      "readline                  6.2                           2  \n",
      "redis                     3.2.0                         0  \n",
      "redis-py                  2.10.5                   py36_0  \n",
      "requests                  2.12.4                   py36_0  \n",
      "rope                      0.9.4                    py36_1  \n",
      "ruamel_yaml               0.11.14                  py36_1  \n",
      "scikit-image              0.12.3              np111py36_1  \n",
      "scikit-learn              0.18.1              np111py36_1  \n",
      "scipy                     0.18.1              np111py36_1  \n",
      "seaborn                   0.7.1                    py36_0  \n",
      "setuptools                27.2.0                   py36_0  \n",
      "simplegeneric             0.8.1                    py36_1  \n",
      "singledispatch            3.4.0.3                  py36_0  \n",
      "sip                       4.18                     py36_0  \n",
      "six                       1.10.0                   py36_0  \n",
      "snowballstemmer           1.2.1                    py36_0  \n",
      "sockjs-tornado            1.0.3                    py36_0  \n",
      "sphinx                    1.5.1                    py36_0  \n",
      "spyder                    3.1.2                    py36_0  \n",
      "sqlalchemy                1.1.5                    py36_0  \n",
      "sqlite                    3.13.0                        0  \n",
      "statsmodels               0.6.1               np111py36_1  \n",
      "sympy                     1.0                      py36_0  \n",
      "terminado                 0.6                      py36_0  \n",
      "tk                        8.5.18                        0  \n",
      "toolz                     0.8.2                    py36_0  \n",
      "tornado                   4.4.2                    py36_0  \n",
      "traitlets                 4.3.1                    py36_0  \n",
      "unicodecsv                0.14.1                   py36_0  \n",
      "wcwidth                   0.1.7                    py36_0  \n",
      "werkzeug                  0.11.15                  py36_0  \n",
      "wheel                     0.29.0                   py36_0  \n",
      "widgetsnbextension        1.2.6                    py36_0  \n",
      "wrapt                     1.10.8                   py36_0  \n",
      "xlrd                      1.0.0                    py36_0  \n",
      "xlsxwriter                0.9.6                    py36_0  \n",
      "xlwings                   0.10.2                   py36_0  \n",
      "xlwt                      1.2.0                    py36_0  \n",
      "xz                        5.2.2                         1  \n",
      "yaml                      0.1.6                         0  \n",
      "zlib                      1.2.8                         3  \n"
     ]
    }
   ],
   "source": [
    "# We can, for example, check which packages are available in our current environment\n",
    "!conda list"
   ]
  },
  {
   "cell_type": "code",
   "execution_count": 15,
   "metadata": {
    "collapsed": false
   },
   "outputs": [],
   "source": [
    "# It can be good to explore what anaconda actually offers.\n",
    "#  I hadn't heard of 'itsdangerous' before. Lets check out what is it\n",
    "import itsdangerous\n",
    "itsdangerous?"
   ]
  },
  {
   "cell_type": "code",
   "execution_count": 16,
   "metadata": {
    "collapsed": false
   },
   "outputs": [
    {
     "data": {
      "text/plain": [
       "['BadData',\n",
       " 'BadHeader',\n",
       " 'BadPayload',\n",
       " 'BadSignature',\n",
       " 'BadTimeSignature',\n",
       " 'EPOCH',\n",
       " 'HMACAlgorithm',\n",
       " 'JSONWebSignatureSerializer',\n",
       " 'NoneAlgorithm',\n",
       " 'PY2',\n",
       " 'Serializer',\n",
       " 'SignatureExpired',\n",
       " 'Signer',\n",
       " 'SigningAlgorithm',\n",
       " 'TimedJSONWebSignatureSerializer',\n",
       " 'TimedSerializer',\n",
       " 'TimestampSigner',\n",
       " 'URLSafeSerializer',\n",
       " 'URLSafeSerializerMixin',\n",
       " 'URLSafeTimedSerializer',\n",
       " '_CompactJSON',\n",
       " '__builtins__',\n",
       " '__cached__',\n",
       " '__doc__',\n",
       " '__file__',\n",
       " '__loader__',\n",
       " '__name__',\n",
       " '__package__',\n",
       " '__spec__',\n",
       " '_builtin_constant_time_compare',\n",
       " 'base64',\n",
       " 'base64_decode',\n",
       " 'base64_encode',\n",
       " 'bytes_to_int',\n",
       " 'compact_json',\n",
       " 'constant_time_compare',\n",
       " 'datetime',\n",
       " 'hashlib',\n",
       " 'hmac',\n",
       " 'int_to_byte',\n",
       " 'int_to_bytes',\n",
       " 'is_text_serializer',\n",
       " 'izip',\n",
       " 'json',\n",
       " 'number_types',\n",
       " 'operator',\n",
       " 'reduce',\n",
       " 'sys',\n",
       " 'text_type',\n",
       " 'time',\n",
       " 'want_bytes',\n",
       " 'zlib']"
      ]
     },
     "execution_count": 16,
     "metadata": {},
     "output_type": "execute_result"
    }
   ],
   "source": [
    "# We can check what is available in the 'itsdangerous' module with the 'dir' function. \n",
    "dir(itsdangerous)"
   ]
  },
  {
   "cell_type": "code",
   "execution_count": 17,
   "metadata": {
    "collapsed": true
   },
   "outputs": [],
   "source": [
    "# This means we can also run conda through the notebooks. \n",
    "#  For example, if we find we need a new package for our analysis, we can install it from the notebook:\n",
    "# !conda install 'new_pkg_name'"
   ]
  },
  {
   "cell_type": "markdown",
   "metadata": {},
   "source": [
    "## External Links for More Information\n",
    "<br>\n",
    "<div class=\"alert alert-info\">\n",
    "Jupyter Notebooks Tips & Tricks: https://www.dataquest.io/blog/jupyter-notebook-tips-tricks-shortcuts/\n",
    "</div>\n",
    "\n",
    "<div class=\"alert alert-info\">\n",
    "How Jupyter Notebooks work (behind the scences): http://jupyter.readthedocs.io/en/latest/architecture/how_jupyter_ipython_work.html\n",
    "</div>"
   ]
  }
 ],
 "metadata": {
  "kernelspec": {
   "display_name": "Python 3",
   "language": "python",
   "name": "python3"
  },
  "language_info": {
   "codemirror_mode": {
    "name": "ipython",
    "version": 3
   },
   "file_extension": ".py",
   "mimetype": "text/x-python",
   "name": "python",
   "nbconvert_exporter": "python",
   "pygments_lexer": "ipython3",
   "version": "3.6.0"
  }
 },
 "nbformat": 4,
 "nbformat_minor": 2
}
