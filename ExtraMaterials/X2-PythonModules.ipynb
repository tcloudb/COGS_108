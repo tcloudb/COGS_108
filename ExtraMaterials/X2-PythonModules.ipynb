{
 "cells": [
  {
   "cell_type": "markdown",
   "metadata": {},
   "source": [
    "# Core Data-Science Modules\n",
    "\n",
    "- numpy\n",
    "- scipy\n",
    "- nltk\n",
    "- statsmodels\n",
    "- pandas\n",
    "- matplotlib"
   ]
  },
  {
   "cell_type": "markdown",
   "metadata": {},
   "source": [
    "# Deep Learning\n",
    "- theano\n",
    "    - http://deeplearning.net/software/theano/\n",
    "- tensorflow\n",
    "    - https://www.tensorflow.org/"
   ]
  },
  {
   "cell_type": "markdown",
   "metadata": {},
   "source": [
    "# Other Plotting Libraries\n",
    "- seaborn\n",
    "    - https://seaborn.pydata.org/\n",
    "- bokeh\n",
    "    - http://bokeh.pydata.org/en/latest/"
   ]
  },
  {
   "cell_type": "markdown",
   "metadata": {},
   "source": [
    "# Graph Theory / Networks\n",
    "- networkx\n",
    "    - https://networkx.github.io/\n",
    "- graph-tool\n",
    "    - https://graph-tool.skewed.de/"
   ]
  },
  {
   "cell_type": "markdown",
   "metadata": {},
   "source": [
    "# Useful parts of the standard library\n",
    "Full list in standard library (py35):\n",
    "https://docs.python.org/3.5/library/index.html\n",
    "\n",
    "\n",
    "## Basic Utilities\n",
    "- os\n",
    "- sys\n",
    "- time\n",
    "- glob: Unix Style Pathname Pattern Expansion\n",
    "    - https://docs.python.org/3.5/library/glob.html\n",
    "\n",
    "## Useful functions\n",
    "- math\n",
    "- random\n",
    "- re: regular expression operations\n",
    "    - https://docs.python.org/3.5/library/re.html\n",
    "\n",
    "## File Formats\n",
    "- json\n",
    "- csv\n",
    "\n",
    "## Data Objects\n",
    "- collections\n",
    "- pickle"
   ]
  },
  {
   "cell_type": "code",
   "execution_count": null,
   "metadata": {
    "collapsed": true
   },
   "outputs": [],
   "source": []
  }
 ],
 "metadata": {
  "anaconda-cloud": {},
  "kernelspec": {
   "display_name": "Python [conda env:py35]",
   "language": "python",
   "name": "conda-env-py35-py"
  },
  "language_info": {
   "codemirror_mode": {
    "name": "ipython",
    "version": 3
   },
   "file_extension": ".py",
   "mimetype": "text/x-python",
   "name": "python",
   "nbconvert_exporter": "python",
   "pygments_lexer": "ipython3",
   "version": "3.5.2"
  }
 },
 "nbformat": 4,
 "nbformat_minor": 1
}
