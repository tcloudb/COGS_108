{
 "cells": [
  {
   "cell_type": "markdown",
   "metadata": {
    "collapsed": true
   },
   "source": [
    "![title](img/python.png)"
   ]
  },
  {
   "cell_type": "markdown",
   "metadata": {
    "collapsed": true
   },
   "source": [
    "<div class=\"alert alert-success\"> \n",
    "Python is an [open-source](https://en.wikipedia.org/wiki/Open-source_model), [high-level](https://en.wikipedia.org/wiki/High-level_programming_language), [general purpose](https://en.wikipedia.org/wiki/General-purpose_programming_language), [interpreted](https://en.wikipedia.org/wiki/Interpreted_language),  [programming language](https://en.wikipedia.org/wiki/Programming_language), one of the most popular for data science applications. \n",
    "</div>\n",
    "\n",
    "<div class=\"alert alert-info\">\n",
    "The official Python Website: https://www.python.org\n",
    "</div>"
   ]
  },
  {
   "cell_type": "markdown",
   "metadata": {},
   "source": [
    "<center><h1> Why Python? </h1><center>\n",
    "<br>\n",
    "\n",
    "- As a general purpose language, Python may not be the best tool for any particular job, but it is generally the second best tool for everything. This is useful since a data science project may include everything from scraping data from the web, analyzing a mixture or text and numerical data, computing features, training a model, creating high-quality graphs, and then hosting a website with your results. \n",
    "\n",
    "- Python is explicitly and by design, user-friendly. Python is built to be human-interpretable, making it easier to work with. \n",
    "\n",
    "- Python also has a massive user community doing similar things, which is useful because this community creates a large number of tools you can use. The best language for your project is one which has the things you need.\n",
    "\n",
    "<hr>"
   ]
  },
  {
   "cell_type": "markdown",
   "metadata": {},
   "source": [
    "<center><h1> Python2 vs. Python3 </h1></center>\n",
    "\n",
    "This class will use Python3 - it is the currently developed version of Python. Specifically 3.6 is the most recent version, released in 2016. \n",
    "\n",
    "Python3 was a break from Python2, because there were some larger changes that broke [backwards compatibility](https://en.wikipedia.org/wiki/Backward_compatibility). Many still use Python2 - for a while, Python3 had fewer available tools, since it takes a while to update large codebases. Now though, Python3 has pretty much everything available, and is the future of Python. In practice, Python 2 & 3 are quite similar - learning one will be mostly relevant for knowing the other, and code can usually be made compatible between both with minimal changes.\n",
    "\n",
    "\n",
    "<br>\n",
    "<div class=\"alert alert-info\">\n",
    "Python 2 vs 3 discussion, and which to choose, from the official documentation: https://wiki.python.org/moin/Python2orPython3\n",
    "</div>"
   ]
  },
  {
   "cell_type": "markdown",
   "metadata": {},
   "source": [
    "<center><h1> Getting Un-Stuck </h1></center>\n",
    "- The internet is your friend. If you get an error, or get stuck, use {your favourite search engine} with specific search terms relating to what you are trying to do. Sometimes this just means searching the error that you got.\n",
    "- Your are likely to find responses on StackOverflow - which is basically a forum for programming questions, and a good place to find answers. "
   ]
  },
  {
   "cell_type": "markdown",
   "metadata": {},
   "source": [
    "<center><h1> Tutorials for Learning Python </h1></center>\n",
    "\n",
    "- [Codecademy](https://www.codecademy.com/tracks/python) is great for very beginner levels. \n",
    "- There is also the [Official Beginners Guide](https://wiki.python.org/moin/BeginnersGuide).\n",
    "- [Learn Python the Hard Way](https://learnpythonthehardway.org/book/) is a great tutorial for a more in-depth overview.\n",
    "    - It isn't actually particularly hard, although note that the currently available version is in Python2). \n",
    "- [Python Challenge](http://www.pythonchallenge.com/) is a good place for (sometimes infuriating) programming challenges.\n",
    "- [Leet Code](https://leetcode.com/) is a place for more intense technical coding questions and challenges (geared towards industry interviews)."
   ]
  },
  {
   "cell_type": "markdown",
   "metadata": {},
   "source": [
    "<center><h1> Packages </h1></center>\n",
    "<br>\n",
    "<div class=\"alert alert-success\"> \n",
    "Packages are basically just collections of code. Anaconda comes with all the core packages you will need for this class. \n",
    "</div>\n",
    "<div class=\"alert alert-info\"> \n",
    "For getting other packes, anaconda support for package management: https://conda.io/docs/using/pkgs.html\n",
    "</div>"
   ]
  }
 ],
 "metadata": {
  "anaconda-cloud": {},
  "kernelspec": {
   "display_name": "Python 3",
   "language": "python",
   "name": "python3"
  },
  "language_info": {
   "codemirror_mode": {
    "name": "ipython",
    "version": 3
   },
   "file_extension": ".py",
   "mimetype": "text/x-python",
   "name": "python",
   "nbconvert_exporter": "python",
   "pygments_lexer": "ipython3",
   "version": "3.6.0"
  }
 },
 "nbformat": 4,
 "nbformat_minor": 1
}
