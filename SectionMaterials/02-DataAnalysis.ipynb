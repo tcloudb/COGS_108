{
 "cells": [
  {
   "cell_type": "markdown",
   "metadata": {},
   "source": [
    "<center><h1> Data Analysis"
   ]
  },
  {
   "cell_type": "markdown",
   "metadata": {
    "collapsed": true
   },
   "source": [
    "Data Science, at it's core, is the process of analyzing data (about something) in order to:\n",
    "- Classifying the data in meaningful ways\n",
    "- Make predictions about future data\n",
    "- Discover new knowledge about the data and the phenomena they represent."
   ]
  },
  {
   "cell_type": "code",
   "execution_count": 1,
   "metadata": {
    "collapsed": true
   },
   "outputs": [],
   "source": [
    "%matplotlib inline\n",
    "\n",
    "# Import matplotlib and numpy for some quick examples\n",
    "import matplotlib.pyplot as plt\n",
    "import numpy as np"
   ]
  },
  {
   "cell_type": "markdown",
   "metadata": {
    "collapsed": true
   },
   "source": [
    "<center><h1> Prediction </h1></center>\n",
    "<br>\n",
    "<div class=\"alert alert-success\">\n",
    "Prediction is the use of current (training) data to make predictions about future observations.\n",
    "</div>\n",
    "<br>\n",
    "<div class=\"alert alert-info\">\n",
    "Optional reading on [prediction in data science](https://www.archive.nyu.edu/bitstream/2451/31635/2/data_science_and_prediction_dhar.pdf).\n",
    "</div>"
   ]
  },
  {
   "cell_type": "markdown",
   "metadata": {},
   "source": [
    "### Problem\n",
    "Let's say we wanted to predict dogs weight, from their length. Maybe, for example, it's easier to use a tape measure than to get a dog onto a scale, so if we could infer their weight from their length, we could save a lot of time. "
   ]
  },
  {
   "cell_type": "code",
   "execution_count": 2,
   "metadata": {
    "collapsed": false
   },
   "outputs": [],
   "source": [
    "# We have some data\n",
    "lengths = [75, 50, 90, 115]    # cm's\n",
    "weights = [17.5, 10, 18, 20]   # kg's"
   ]
  },
  {
   "cell_type": "code",
   "execution_count": 3,
   "metadata": {
    "collapsed": false
   },
   "outputs": [
    {
     "data": {
      "image/png": "[encoded data removed]",
      "text/plain": [
       "<matplotlib.figure.Figure at 0x115f3b358>"
      ]
     },
     "metadata": {},
     "output_type": "display_data"
    }
   ],
   "source": [
    "# Plot the data: Always visualize your data!\n",
    "f, ax = plt.subplots()\n",
    "ax.plot(lengths, weights , '.')\n",
    "plt.xlabel('Length (cm)'); plt.xlim([30, 125]);\n",
    "plt.ylabel('Weight (kg)'); plt.ylim([5, 25]);"
   ]
  },
  {
   "cell_type": "code",
   "execution_count": 4,
   "metadata": {
    "collapsed": false
   },
   "outputs": [],
   "source": [
    "# Polyfit (degree=1) will fit a linear fit to the data, of the form y = ax + b\n",
    "#  Once we fit this simple model to the data, we can use it to predict from new data points\n",
    "a, b = np.polyfit(lengths, weights, 1)"
   ]
  },
  {
   "cell_type": "code",
   "execution_count": 5,
   "metadata": {
    "collapsed": false
   },
   "outputs": [
    {
     "name": "stdout",
     "output_type": "stream",
     "text": [
      "Predicted weight for a new data point, weight  is 13.3460674157\n"
     ]
    }
   ],
   "source": [
    "# So now we can predict the weight of a new observation (a new dog)\n",
    "new_length = 62\n",
    "pred_weight = a * new_length + b \n",
    "print('Predicted weight for a new data point, weight  is', pred_weight)"
   ]
  },
  {
   "cell_type": "code",
   "execution_count": 6,
   "metadata": {
    "collapsed": false
   },
   "outputs": [
    {
     "data": {
      "image/png": "[encoded data removed]",
      "text/plain": [
       "<matplotlib.figure.Figure at 0x115f3b358>"
      ]
     },
     "execution_count": 6,
     "metadata": {},
     "output_type": "execute_result"
    }
   ],
   "source": [
    "# We can check how our prediction fits in with the data we observed\n",
    "ax.plot(new_length, pred_weight, '.r')\n",
    "f"
   ]
  },
  {
   "cell_type": "code",
   "execution_count": 7,
   "metadata": {
    "collapsed": false
   },
   "outputs": [
    {
     "name": "stdout",
     "output_type": "stream",
     "text": [
      "The (absolute) error of our prediction is 1.35393258427 kg's.\n"
     ]
    }
   ],
   "source": [
    "# If we also happen to now the true weight of our test data, we can check how good our prediction is\n",
    "actual_weight = 14.7\n",
    "error = actual_weight - pred_weight\n",
    "\n",
    "print('The (absolute) error of our prediction is', str(error), 'kg\\'s.')"
   ]
  },
  {
   "cell_type": "markdown",
   "metadata": {},
   "source": [
    "How we go about making predictions gets more complicated, as we deal with large, messy data with more variables of various 'shapes'. Fundamentally, though, it comes down to the same process: what can we learn from a set of data, such that, given a new peice of data, we can make predictions about it (and using test data with known answers to evaluate how good our predictive models are). \n",
    "<hr>"
   ]
  },
  {
   "cell_type": "markdown",
   "metadata": {},
   "source": [
    "<center><h1> Classification </h1></center>\n",
    "<br>\n",
    "<div class=\"alert alert-success\">\n",
    "Classification (or clustering) is the process of trying to discover a systematic organization of data. \n",
    "</div>\n",
    "<br>\n",
    "<div class=\"alert alert-info\">\n",
    "Classification overview from wikipedia: https://en.wikipedia.org/wiki/Statistical_classification\n",
    "</div>"
   ]
  },
  {
   "cell_type": "markdown",
   "metadata": {},
   "source": [
    "### Problem\n",
    "Our local zoologist is investigating a group of squirrels. She would like to know how many different species there are present in the population, but only has basic data to work with. We can try and cluster the data we have, and look for (what look like) meaningful groupings. "
   ]
  },
  {
   "cell_type": "code",
   "execution_count": 8,
   "metadata": {
    "collapsed": false
   },
   "outputs": [],
   "source": [
    "# We observe a bunch of squirrels with [height (cm), weight (grams)] pairs\n",
    "dat = np.array([[10., 600.], [16., 1200], [6., 800], [12., 700.], [17., 1400.],\n",
    "               [8., 500.], [20., 1500.], [21., 1300.], [11., 800.], [18., 1100.]])"
   ]
  },
  {
   "cell_type": "code",
   "execution_count": 9,
   "metadata": {
    "collapsed": false
   },
   "outputs": [
    {
     "data": {
      "image/png": "[encoded data removed]",
      "text/plain": [
       "<matplotlib.figure.Figure at 0x118558b70>"
      ]
     },
     "metadata": {},
     "output_type": "display_data"
    }
   ],
   "source": [
    "# Visualize our data!\n",
    "f, ax = plt.subplots()\n",
    "ax.plot(dat[:, 0], dat[:, 1], '.')\n",
    "plt.xlabel('Height (cm)'); plt.xlim([0, 25]);\n",
    "plt.ylabel('Weight (kg)'); plt.ylim([300, 1700]);"
   ]
  },
  {
   "cell_type": "code",
   "execution_count": 10,
   "metadata": {
    "collapsed": false
   },
   "outputs": [],
   "source": [
    "# Lets try a classification algorithm\n",
    "#  If you're unfamiliar with KMeans, we'll come back to how it works later\n",
    "from sklearn.cluster import KMeans\n",
    "kmeans = KMeans(2).fit(dat)"
   ]
  },
  {
   "cell_type": "code",
   "execution_count": 11,
   "metadata": {
    "collapsed": false
   },
   "outputs": [
    {
     "data": {
      "text/plain": [
       "array([0, 1, 0, 0, 1, 0, 1, 1, 0, 1], dtype=int32)"
      ]
     },
     "execution_count": 11,
     "metadata": {},
     "output_type": "execute_result"
    }
   ],
   "source": [
    "# This gives us a label each data point, as to which cluster it belongs to\n",
    "kmeans.labels_"
   ]
  },
  {
   "cell_type": "code",
   "execution_count": 12,
   "metadata": {
    "collapsed": false
   },
   "outputs": [],
   "source": [
    "# We can use these to split our dataset up into putative groupings\n",
    "cl_1 = dat[kmeans.labels_ == 0]\n",
    "cl_2 = dat[kmeans.labels_ == 1]"
   ]
  },
  {
   "cell_type": "code",
   "execution_count": 13,
   "metadata": {
    "collapsed": false
   },
   "outputs": [
    {
     "data": {
      "image/png": "[encoded data removed]",
      "text/plain": [
       "<matplotlib.figure.Figure at 0x11b05f7b8>"
      ]
     },
     "metadata": {},
     "output_type": "display_data"
    }
   ],
   "source": [
    "# And visualize the classification\n",
    "f, ax = plt.subplots()\n",
    "ax.plot(cl_1[:, 0], cl_1[:, 1], '.b')\n",
    "ax.plot(cl_2[:, 0], cl_2[:, 1], '.r')\n",
    "plt.xlabel('Height (cm)'); plt.xlim([0, 25]);\n",
    "plt.ylabel('Weight (kg)'); plt.ylim([300, 1700]);"
   ]
  },
  {
   "cell_type": "markdown",
   "metadata": {},
   "source": [
    "Evaluating classification, especially in unsupervised cases such as this (when we don't know the answer) is very much non-trivial. It's hard to know if there really are two groups here - or perhaps more, or fewer. We'll come back to how these analyses actually work and how to evaluate what you get out of them. "
   ]
  },
  {
   "cell_type": "markdown",
   "metadata": {},
   "source": [
    "<center><h1> Knowledge Discovery </h1></center>\n",
    "<br>\n",
    "<div class=\"alert alert-success\">\n",
    "Knowledge Discovery is the attempt to learn new things about the world from data. It can be done a many ways, including through classification and predictive analytics. We will explore various ways to learn new things about the world from data as we go through this class. \n",
    "</div>\n",
    "<br>\n",
    "<div class=\"alert alert-info\">\n",
    "An example of this, as discussed in lecture, is the Brain-SCANR, which analyses the existing literature in neuroscience to extract patterns, and make (potentially novel) hypotheses about the inter-relations of brain regions and functions: http://www.brainscanr.com/\n",
    "</div>"
   ]
  }
 ],
 "metadata": {
  "anaconda-cloud": {},
  "kernelspec": {
   "display_name": "Python 3",
   "language": "python",
   "name": "python3"
  },
  "language_info": {
   "codemirror_mode": {
    "name": "ipython",
    "version": 3
   },
   "file_extension": ".py",
   "mimetype": "text/x-python",
   "name": "python",
   "nbconvert_exporter": "python",
   "pygments_lexer": "ipython3",
   "version": "3.6.0"
  }
 },
 "nbformat": 4,
 "nbformat_minor": 1
}
