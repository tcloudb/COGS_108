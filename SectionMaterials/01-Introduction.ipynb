{
 "cells": [
  {
   "cell_type": "markdown",
   "metadata": {
    "collapsed": true,
    "nbpresent": {
     "id": "7fc0cefe-8b1c-4ca9-aa39-094614969842"
    }
   },
   "source": [
    "<center> <h1> Hands-On Data Science </h1> </center>\n",
    "\n",
    "<p> Welcome to the hands on materials for the COGS108: Data Science in Practice\n",
    "\n",
    "<hr>"
   ]
  },
  {
   "cell_type": "markdown",
   "metadata": {
    "nbpresent": {
     "id": "b6153143-e694-4e86-96b0-243f56bad8d5"
    }
   },
   "source": [
    "<center> <h1> What do you need for this class? </h1> </center>"
   ]
  },
  {
   "cell_type": "markdown",
   "metadata": {},
   "source": [
    "## Software\n",
    "- Working install of python3.6, with the anaconda distribution\n",
    "- Jupyter Notebooks\n",
    "- git"
   ]
  },
  {
   "cell_type": "markdown",
   "metadata": {},
   "source": [
    "## Accounts\n",
    "- TritonED\n",
    "- Github\n",
    "- Piazza"
   ]
  },
  {
   "cell_type": "markdown",
   "metadata": {},
   "source": [
    "## Skills\n",
    "This class assumes some basic knowledge of programming, ideally with Python. "
   ]
  },
  {
   "cell_type": "markdown",
   "metadata": {},
   "source": [
    "## Computational Resources\n",
    "- You should be able to run all analysis basically any computer you have access to (Linux, Mac and/or Windows). You can also use university computers. \n",
    "\n",
    "<hr>"
   ]
  },
  {
   "cell_type": "markdown",
   "metadata": {
    "nbpresent": {
     "id": "0f4dd046-4020-465c-85f6-3d92ac9fe145"
    }
   },
   "source": [
    "![jupyter](img/jupyter.png)\n",
    "\n",
    "<div class=\"alert alert-success\">\n",
    "Jupyter notebooks are a way to intermix code, outputs and plain text. \n",
    "They run in a web browser, and connect to a kernel to be able to execute code. \n",
    "</div>\n",
    "\n",
    "<div class=\"alert alert-info\">\n",
    "Link to more information about Project Jupyter: http://jupyter.org\n",
    "</div>\n",
    "\n",
    "<hr>"
   ]
  },
  {
   "cell_type": "markdown",
   "metadata": {
    "nbpresent": {
     "id": "b57ed03a-8c01-4e48-95e8-9c6753e35088"
    }
   },
   "source": [
    "![title](img/NBViewer.png)\n",
    "\n",
    "<div class=\"alert alert-success\">\n",
    "Notebooks can be rendered on webpages, and shared with others. NBViewer is a tool to host and render notebooks.\n",
    "</div>\n",
    "\n",
    "<div class=\"alert alert-info\">\n",
    "Explore available notebook on NBViewer: https://nbviewer.jupyter.org/\n",
    "</div>\n",
    "\n",
    "<hr>"
   ]
  },
  {
   "cell_type": "markdown",
   "metadata": {
    "nbpresent": {
     "id": "a0fd64ab-0202-4900-8e6d-155c29c2e750"
    }
   },
   "source": [
    "![anaconda](img/anaconda.png)\n",
    "\n",
    "<div class=\"alert alert-success\">\n",
    "Anaconda is an open-source distribution of Python (and R) for data analysis, predictive analytics, scientific computing, etc. It includes a simple way to manage different packages - the conda package manager. It includes all the Python packages we will need for this course.\n",
    "</div>\n",
    "\n",
    "<div class=\"alert alert-info\">\n",
    "Follow instructions to get the Anaconda Python distribution here: https://www.continuum.io/downloads\n",
    "</div>\n",
    "\n",
    "Notes\n",
    "-----\n",
    "- If you are on Mac, you have a native installation of python. Despite this, your native installation of Python may be older, and will not include the extra packages that you will need for this class. Downloading anaconda will install a separate, independent install of Python, leaving your native install untouched. \n",
    "- Windows does not require Python natively and so it is not typically pre-installed. "
   ]
  },
  {
   "cell_type": "code",
   "execution_count": 1,
   "metadata": {
    "collapsed": false
   },
   "outputs": [
    {
     "name": "stdout",
     "output_type": "stream",
     "text": [
      "/Users/thomasdonoghue/anaconda/envs/py36/bin/python\n",
      "Python 3.6.0 :: Anaconda 4.3.1 (x86_64)\n"
     ]
    }
   ],
   "source": [
    "# You can check which python you are using, and what version it is.\n",
    "#  Once you have installed anaconda, you should see you are using Python in your anaconda folder\n",
    "#  Make sure that the version you have is 3.6 (or at least 3.X)\n",
    "#  Note: these are command-line functions that may not work on windows\n",
    "!which python\n",
    "!python --version"
   ]
  },
  {
   "cell_type": "markdown",
   "metadata": {
    "nbpresent": {
     "id": "6576af9c-b0f3-4cbe-9a02-06feaa61d0b0"
    }
   },
   "source": [
    "## git & Github \n",
    "\n",
    "Git and Github are not the same thing. Git is a tool, a software package, for version control. Github is an online hosting service that can be used with git, and offers online tools to use git. In practice, they almosy always go together - git as a tool to for version control between code on your computer and remote repositories that are stored on Github. \n",
    "\n",
    "<br>\n",
    "<div class=\"alert alert-info\">\n",
    "Create a Github account: https://github.com/\n",
    "</div>\n",
    "\n",
    "<div class=\"alert alert-info\">\n",
    "Install git: https://git-scm.com/book/en/v2/Getting-Started-Installing-Git\n",
    "</div>"
   ]
  },
  {
   "cell_type": "code",
   "execution_count": 2,
   "metadata": {
    "collapsed": false
   },
   "outputs": [
    {
     "name": "stdout",
     "output_type": "stream",
     "text": [
      "git version 2.3.5\r\n"
     ]
    }
   ],
   "source": [
    "# Check that you have git installed (which version doesn't really matter)\n",
    "!git --version"
   ]
  },
  {
   "cell_type": "markdown",
   "metadata": {},
   "source": [
    "![sourcetree](img/sourcetree.png)\n",
    "\n",
    "<div class=\"alert alert-success\">\n",
    "Source Tree is a free GUI for managing repositories with git. \n",
    "</div>\n",
    "\n",
    "<div class=\"alert alert-info\">\n",
    "Download Source Tree: https://www.sourcetreeapp.com/\n",
    "</div>\n",
    "\n"
   ]
  },
  {
   "cell_type": "markdown",
   "metadata": {},
   "source": [
    "<center><h1> Environments </h1><center>\n",
    "<br>\n",
    "<div class=\"alert alert-success\">\n",
    "You can also use environments to have multiple, independent installations of python, that wont interfere with each other. \n",
    "</div>\n",
    "\n",
    "<div class=\"alert alert-info\">\n",
    "Using environments with Anaconda: https://conda.io/docs/using/envs.html\n",
    "</div>"
   ]
  },
  {
   "cell_type": "markdown",
   "metadata": {},
   "source": [
    "# Using an environment for the class\n",
    "If you want to use an environment, and already have anaconda, you will need to run this command: <br>\n",
    "~ conda create -n envname python=3.6 anaconda <br>\n",
    "^ Replace 'envname' with your desired environment name. \n",
    "\n",
    "You will then need to activate this environment (everytime) you want to use it. \n",
    "\n",
    "To activate your environment: <br>\n",
    "~ source activate envname\n",
    "\n",
    "To deactivate your environment: <br>\n",
    "~ source deactivate envname\n"
   ]
  },
  {
   "cell_type": "markdown",
   "metadata": {},
   "source": [
    "\n",
    "\n"
   ]
  }
 ],
 "metadata": {
  "anaconda-cloud": {},
  "kernelspec": {
   "display_name": "Python 3",
   "language": "python",
   "name": "python3"
  },
  "language_info": {
   "codemirror_mode": {
    "name": "ipython",
    "version": 3
   },
   "file_extension": ".py",
   "mimetype": "text/x-python",
   "name": "python",
   "nbconvert_exporter": "python",
   "pygments_lexer": "ipython3",
   "version": "3.6.0"
  },
  "nbpresent": {
   "slides": {
    "3d09dc46-88c8-44cb-bc57-259db78a0e70": {
     "id": "3d09dc46-88c8-44cb-bc57-259db78a0e70",
     "prev": "8d1b5def-2290-42c9-8b06-1c6e0e495521",
     "regions": {
      "4601423d-c94d-46da-885b-fe33b0216c22": {
       "attrs": {
        "height": 1,
        "width": 1,
        "x": 0,
        "y": 0
       },
       "content": {
        "cell": "0f4dd046-4020-465c-85f6-3d92ac9fe145",
        "part": "whole"
       },
       "id": "4601423d-c94d-46da-885b-fe33b0216c22"
      }
     }
    },
    "8d1b5def-2290-42c9-8b06-1c6e0e495521": {
     "id": "8d1b5def-2290-42c9-8b06-1c6e0e495521",
     "prev": "bc666852-d015-42a1-b679-eaf92d5eb643",
     "regions": {
      "d0118c2f-7757-4efa-a276-96f162d312ae": {
       "attrs": {
        "height": 1,
        "width": 1,
        "x": 0,
        "y": 0
       },
       "content": {
        "cell": "d9d878d6-230b-4f1e-b2aa-2f152cb3fe8e",
        "part": "whole"
       },
       "id": "d0118c2f-7757-4efa-a276-96f162d312ae"
      }
     }
    },
    "b039dd05-8357-462a-9525-7f8103de436c": {
     "id": "b039dd05-8357-462a-9525-7f8103de436c",
     "prev": "3d09dc46-88c8-44cb-bc57-259db78a0e70",
     "regions": {
      "9180ab3f-f784-45a2-b2cc-a18aad800fc5": {
       "attrs": {
        "height": 1,
        "width": 1,
        "x": 0,
        "y": 0
       },
       "content": {
        "cell": "b57ed03a-8c01-4e48-95e8-9c6753e35088",
        "part": "whole"
       },
       "id": "9180ab3f-f784-45a2-b2cc-a18aad800fc5"
      }
     }
    },
    "bc666852-d015-42a1-b679-eaf92d5eb643": {
     "id": "bc666852-d015-42a1-b679-eaf92d5eb643",
     "layout": "grid",
     "prev": null,
     "regions": {
      "31cd776f-cc93-49d6-a40c-c590805cfb8f": {
       "attrs": {
        "height": 0.8333333333333334,
        "pad": 0.01,
        "width": 0.8333333333333334,
        "x": 0.08333333333333333,
        "y": 0.08333333333333333
       },
       "content": {
        "cell": "7fc0cefe-8b1c-4ca9-aa39-094614969842",
        "part": "whole"
       },
       "id": "31cd776f-cc93-49d6-a40c-c590805cfb8f"
      },
      "e1612c29-0f61-4692-9d6e-112e8d378e46": {
       "attrs": {
        "height": 0.8333333333333334,
        "pad": 0.01,
        "width": 0.8333333333333334,
        "x": 0.08333333333333333,
        "y": 0.08333333333333333
       },
       "content": {
        "cell": "7fc0cefe-8b1c-4ca9-aa39-094614969842",
        "part": "whole"
       },
       "id": "e1612c29-0f61-4692-9d6e-112e8d378e46"
      }
     }
    }
   },
   "themes": {}
  }
 },
 "nbformat": 4,
 "nbformat_minor": 1
}
